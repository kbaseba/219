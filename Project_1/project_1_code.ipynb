{
 "cells": [
  {
   "cell_type": "markdown",
   "metadata": {},
   "source": [
    "## Project 1\n",
    "Marc Hernandez, Tilboon Elberier"
   ]
  },
  {
   "cell_type": "code",
   "execution_count": 13,
   "metadata": {},
   "outputs": [],
   "source": [
    "\n",
    "# Importing all packages and functions needed for the assignment\n",
    "\n",
    "import numpy as np\n",
    "import matplotlib.pyplot as plt\n",
    "from pickle import dump\n",
    "import pandas as pd\n",
    "import random\n",
    "from sklearn.model_selection import train_test_split\n",
    "import matplotlib.pyplot as plt\n",
    "from sklearn.feature_extraction.text import CountVectorizer\n",
    "import nltk\n",
    "from nltk.stem import WordNetLemmatizer\n",
    "from sklearn.feature_extraction.text import TfidfTransformer\n",
    "from sklearn.naive_bayes import MultinomialNB\n",
    "from sklearn.svm import LinearSVC\n",
    "from sklearn.decomposition import NMF\n",
    "from sklearn.decomposition import TruncatedSVD\n",
    "from nltk.corpus import stopwords\n",
    "from sklearn import metrics"
   ]
  },
  {
   "cell_type": "code",
   "execution_count": 2,
   "metadata": {},
   "outputs": [],
   "source": [
    "# Setting the random seed variables for repeatability of results\n",
    "np.random.seed(42)\n",
    "random.seed(42)"
   ]
  },
  {
   "cell_type": "code",
   "execution_count": 3,
   "metadata": {},
   "outputs": [
    {
     "data": {
      "text/html": [
       "<div>\n",
       "<style scoped>\n",
       "    .dataframe tbody tr th:only-of-type {\n",
       "        vertical-align: middle;\n",
       "    }\n",
       "\n",
       "    .dataframe tbody tr th {\n",
       "        vertical-align: top;\n",
       "    }\n",
       "\n",
       "    .dataframe thead th {\n",
       "        text-align: right;\n",
       "    }\n",
       "</style>\n",
       "<table border=\"1\" class=\"dataframe\">\n",
       "  <thead>\n",
       "    <tr style=\"text-align: right;\">\n",
       "      <th></th>\n",
       "      <th>full_text</th>\n",
       "      <th>summary</th>\n",
       "      <th>keywords</th>\n",
       "      <th>publish_date</th>\n",
       "      <th>authors</th>\n",
       "      <th>url</th>\n",
       "      <th>leaf_label</th>\n",
       "      <th>root_label</th>\n",
       "    </tr>\n",
       "  </thead>\n",
       "  <tbody>\n",
       "    <tr>\n",
       "      <th>0</th>\n",
       "      <td>'Personalize Your NBA App Experience for the '...</td>\n",
       "      <td>'Personalize Your NBA App Experience for the '...</td>\n",
       "      <td>['original', 'content', 'live', 'slate', 'game...</td>\n",
       "      <td>NaN</td>\n",
       "      <td>['Official Release']</td>\n",
       "      <td>https://www.nba.com/news/nba-app-new-features-...</td>\n",
       "      <td>basketball</td>\n",
       "      <td>sports</td>\n",
       "    </tr>\n",
       "    <tr>\n",
       "      <th>1</th>\n",
       "      <td>'Mike Will attends the Pre-GRAMMY Gala and GRA...</td>\n",
       "      <td>'Mike WiLL Made-It has secured a partnership w...</td>\n",
       "      <td>['lead', 'espn', 'nbas', 'madeit', 'nba', 'lat...</td>\n",
       "      <td>2023-10-18 16:22:29+00:00</td>\n",
       "      <td>['Marc Griffin']</td>\n",
       "      <td>https://www.vibe.com/news/entertainment/mike-w...</td>\n",
       "      <td>basketball</td>\n",
       "      <td>sports</td>\n",
       "    </tr>\n",
       "    <tr>\n",
       "      <th>2</th>\n",
       "      <td>'The Golden State Warriors are struggling to f...</td>\n",
       "      <td>'The Golden State Warriors are struggling to f...</td>\n",
       "      <td>['insider', 'york', 'thing', 'nbc', 'tag', 'nb...</td>\n",
       "      <td>NaN</td>\n",
       "      <td>[]</td>\n",
       "      <td>https://www.nbcnewyork.com/tag/featured-nba/</td>\n",
       "      <td>basketball</td>\n",
       "      <td>sports</td>\n",
       "    </tr>\n",
       "    <tr>\n",
       "      <th>3</th>\n",
       "      <td>'On Nov. 28, the NBA and Nike will collaborate...</td>\n",
       "      <td>'On Nov. 28, the NBA and Nike will collaborate...</td>\n",
       "      <td>['watch', 'telecast', 'ultimate', 'membership'...</td>\n",
       "      <td>NaN</td>\n",
       "      <td>['Official Release']</td>\n",
       "      <td>https://www.nba.com/news/watch-nba-games-ultim...</td>\n",
       "      <td>basketball</td>\n",
       "      <td>sports</td>\n",
       "    </tr>\n",
       "    <tr>\n",
       "      <th>4</th>\n",
       "      <td>'The NBA announced additions and innovations t...</td>\n",
       "      <td>'The NBA announced additions and innovations t...</td>\n",
       "      <td>['experience', 'bring', 'media', 'crennan', 'n...</td>\n",
       "      <td>2023-10-17 12:00:17+00:00</td>\n",
       "      <td>['Chris Novak', 'About Chris Novak']</td>\n",
       "      <td>https://awfulannouncing.com/tech/nba-app-2023-...</td>\n",
       "      <td>basketball</td>\n",
       "      <td>sports</td>\n",
       "    </tr>\n",
       "  </tbody>\n",
       "</table>\n",
       "</div>"
      ],
      "text/plain": [
       "                                           full_text  \\\n",
       "0  'Personalize Your NBA App Experience for the '...   \n",
       "1  'Mike Will attends the Pre-GRAMMY Gala and GRA...   \n",
       "2  'The Golden State Warriors are struggling to f...   \n",
       "3  'On Nov. 28, the NBA and Nike will collaborate...   \n",
       "4  'The NBA announced additions and innovations t...   \n",
       "\n",
       "                                             summary  \\\n",
       "0  'Personalize Your NBA App Experience for the '...   \n",
       "1  'Mike WiLL Made-It has secured a partnership w...   \n",
       "2  'The Golden State Warriors are struggling to f...   \n",
       "3  'On Nov. 28, the NBA and Nike will collaborate...   \n",
       "4  'The NBA announced additions and innovations t...   \n",
       "\n",
       "                                            keywords  \\\n",
       "0  ['original', 'content', 'live', 'slate', 'game...   \n",
       "1  ['lead', 'espn', 'nbas', 'madeit', 'nba', 'lat...   \n",
       "2  ['insider', 'york', 'thing', 'nbc', 'tag', 'nb...   \n",
       "3  ['watch', 'telecast', 'ultimate', 'membership'...   \n",
       "4  ['experience', 'bring', 'media', 'crennan', 'n...   \n",
       "\n",
       "                publish_date                               authors  \\\n",
       "0                        NaN                  ['Official Release']   \n",
       "1  2023-10-18 16:22:29+00:00                      ['Marc Griffin']   \n",
       "2                        NaN                                    []   \n",
       "3                        NaN                  ['Official Release']   \n",
       "4  2023-10-17 12:00:17+00:00  ['Chris Novak', 'About Chris Novak']   \n",
       "\n",
       "                                                 url  leaf_label root_label  \n",
       "0  https://www.nba.com/news/nba-app-new-features-...  basketball     sports  \n",
       "1  https://www.vibe.com/news/entertainment/mike-w...  basketball     sports  \n",
       "2       https://www.nbcnewyork.com/tag/featured-nba/  basketball     sports  \n",
       "3  https://www.nba.com/news/watch-nba-games-ultim...  basketball     sports  \n",
       "4  https://awfulannouncing.com/tech/nba-app-2023-...  basketball     sports  "
      ]
     },
     "execution_count": 3,
     "metadata": {},
     "output_type": "execute_result"
    }
   ],
   "source": [
    "# Importing the dataset required for \n",
    "df = pd.read_csv(\"Project1-ClassificationDataset.csv\")\n",
    "df.head()"
   ]
  },
  {
   "cell_type": "markdown",
   "metadata": {},
   "source": [
    "### QUESTION 1: Provide answers to the following questions:\n",
    "Overview: How many rows (samples) and columns (features) are present in the dataset? Histograms: Plot 3 histograms on :\n",
    "\n",
    "(a) The total number of alpha-numeric characters per data point (row) in the feature full text: i.e count on the x-axis and frequency on the y-axis;\n",
    "\n",
    "(b) The column leaf label – class on the x-axis; \n",
    "\n",
    "(c) The column root label – class on the x-axis.\n",
    "\n",
    "Interpret Plots: Provide qualitative interpretations of the histograms."
   ]
  },
  {
   "cell_type": "code",
   "execution_count": 4,
   "metadata": {},
   "outputs": [
    {
     "name": "stdout",
     "output_type": "stream",
     "text": [
      "The total number of rows in the dataframe 3476\n",
      "The total number of columns (features) 8\n"
     ]
    },
    {
     "data": {
      "image/png": "[encoded data removed]",
      "text/plain": [
       "<Figure size 640x480 with 1 Axes>"
      ]
     },
     "metadata": {},
     "output_type": "display_data"
    },
    {
     "data": {
      "image/png": "[encoded data removed]",
      "text/plain": [
       "<Figure size 640x480 with 1 Axes>"
      ]
     },
     "metadata": {},
     "output_type": "display_data"
    },
    {
     "data": {
      "image/png": "[encoded data removed]",
      "text/plain": [
       "<Figure size 640x480 with 1 Axes>"
      ]
     },
     "metadata": {},
     "output_type": "display_data"
    }
   ],
   "source": [
    "# Code for question 1\n",
    "print(\"The total number of rows in the dataframe\",df.shape[0])\n",
    "print(\"The total number of columns (features)\", df.shape[1])\n",
    "\n",
    "df['count'] = df['full_text'].apply(lambda x: sum(char.isalnum() for char in x))\n",
    "\n",
    "df['count'].plot.hist(bins=5, color='skyblue', edgecolor='black', alpha=0.7)\n",
    "plt.title('Histogram of Alphanumeric Character Counts')\n",
    "plt.xlabel('Number of Alphanumeric Characters')\n",
    "plt.ylabel('Frequency')\n",
    "plt.show()\n",
    "\n",
    "root_counts = df['root_label'].value_counts()\n",
    "root_counts.plot(kind='bar', color='skyblue', edgecolor='black')\n",
    "plt.title('Frequency of Each Category')\n",
    "plt.xlabel('Category')\n",
    "plt.ylabel('Frequency')\n",
    "plt.xticks(rotation=0)  # Keep the x-axis labels horizontal\n",
    "plt.show()\n",
    "\n",
    "leaf_counts = df['leaf_label'].value_counts()\n",
    "leaf_counts.plot(kind='bar', color='skyblue', edgecolor='black')\n",
    "plt.title('Frequency of Each Category')\n",
    "plt.xlabel('Category')\n",
    "plt.ylabel('Frequency')\n",
    "plt.xticks(rotation=90)  # Keep the x-axis labels horizontal\n",
    "plt.show()"
   ]
  },
  {
   "cell_type": "markdown",
   "metadata": {},
   "source": [
    "The previous histograms have provided us with the following information, part (a) demonstrates that the majority of the *full_text* feature contains entries that are within 40000 alpha-numeric characters, with a majority of the entries being less than 10000 characters. Furthermore, in the graphs (b) and (c) we can observe an even distribution of each category across all known types in our hierarchy, which enables future analysis of the data to properly weigh the features against one another due to their frequencies being nearly identical."
   ]
  },
  {
   "cell_type": "markdown",
   "metadata": {},
   "source": [
    "### QUESTION 2: Report the number of training and testing samples."
   ]
  },
  {
   "cell_type": "code",
   "execution_count": 5,
   "metadata": {},
   "outputs": [
    {
     "name": "stdout",
     "output_type": "stream",
     "text": [
      "The total number of smaples in the training set is 2780\n",
      "The total number of smaples in the testing set is 696\n"
     ]
    }
   ],
   "source": [
    "# Code for question 2\n",
    "train, test = train_test_split(df[[\"full_text\",\"root_label\"]], test_size=0.2)\n",
    "print(\"The total number of smaples in the training set is\", train.shape[0])\n",
    "print(\"The total number of smaples in the testing set is\", test.shape[0])"
   ]
  },
  {
   "cell_type": "code",
   "execution_count": 6,
   "metadata": {},
   "outputs": [],
   "source": [
    "\n",
    "# Function for cleaning the entries in the full_text feature\n",
    "import re\n",
    "def clean(text):\n",
    "    text = re.sub(r'^https?:\\/\\/.*[\\r\\n]*', '', text, flags=re.MULTILINE)\n",
    "    texter = re.sub(r\"<br />\", \" \", text)\n",
    "    texter = re.sub(r\"&quot;\", \"\\\"\",texter)\n",
    "    texter = re.sub('&#39;', \"\\\"\", texter)\n",
    "    texter = re.sub('\\n', \" \", texter)\n",
    "    texter = re.sub(' u ',\" you \", texter)\n",
    "    texter = re.sub('`',\"\", texter)\n",
    "    texter = re.sub(' +', ' ', texter)\n",
    "    texter = re.sub(r\"(!)\\1+\", r\"!\", texter)\n",
    "    texter = re.sub(r\"(\\?)\\1+\", r\"?\", texter)\n",
    "    texter = re.sub('&amp;', 'and', texter)\n",
    "    texter = re.sub('\\r', ' ',texter)\n",
    "    texter = re.sub(r'[^a-zA-Z\\s]', '', texter) # added to get rid of symbols and numbers other than letter\n",
    "    clean = re.compile('<.*?>')\n",
    "    texter = texter.encode('ascii', 'ignore').decode('ascii')\n",
    "    texter = re.sub(clean, '', texter)\n",
    "    if texter == \"\":\n",
    "        texter = \"\"\n",
    "    return texter"
   ]
  },
  {
   "cell_type": "markdown",
   "metadata": {},
   "source": [
    "### QUESTION 3: Use the following specs to extract features from the textual data:\n",
    "- Before doing anything, please clean each data sample using the code block provided above.\n",
    "This function helps remove many but not all HTML artefacts from the crawler’s output. You\n",
    "can also build your own cleaning module if you find this function to be ineffective.\n",
    "- Use the “english” stopwords of the CountVectorizer\n",
    "- Exclude terms that are numbers (e.g. “123”, “-45”, “6.7” etc.)\n",
    "- Perform lemmatization with nltk.wordnet.WordNetLemmatizer and pos tag\n",
    "- Use min df=3\n",
    "\n",
    "Please answer the following questions:\n",
    "- What are the pros and cons of lemmatization versus stemming? How do these processes affect\n",
    "the dictionary size?\n",
    "- min df means minimum document frequency. How does varying min df change the TF-IDF\n",
    "matrix?\n",
    "- Should I remove stopwords before or after lemmatizing? Should I remove punctuations before\n",
    "or after lemmatizing? Should I remove numbers before or after lemmatizing? Hint: Recall\n",
    "that the full sentence is input into the Lemmatizer and the lemmatizer is tagging the position\n",
    "of every word based on the sentence structure.\n",
    "- Report the shape of the TF-IDF-processed train and test matrices. The number of rows should\n",
    "match the results of Question 2. The number of columns should roughly be in the order of\n",
    "k ×103. This dimension will vary depending on your exact method of cleaning and lemmatizing\n",
    "and that is okay."
   ]
  },
  {
   "cell_type": "code",
   "execution_count": 16,
   "metadata": {},
   "outputs": [
    {
     "name": "stderr",
     "output_type": "stream",
     "text": [
      "[nltk_data] Downloading package wordnet to\n",
      "[nltk_data]     C:\\Users\\astro\\AppData\\Roaming\\nltk_data...\n"
     ]
    },
    {
     "ename": "TypeError",
     "evalue": "unhashable type: 'csr_matrix'",
     "output_type": "error",
     "traceback": [
      "\u001b[1;31m---------------------------------------------------------------------------\u001b[0m",
      "\u001b[1;31mTypeError\u001b[0m                                 Traceback (most recent call last)",
      "Cell \u001b[1;32mIn[16], line 15\u001b[0m\n\u001b[0;32m     13\u001b[0m result \u001b[38;5;241m=\u001b[39m vectorizer\u001b[38;5;241m.\u001b[39mfit_transform(train[\u001b[38;5;124m'\u001b[39m\u001b[38;5;124mfull_text\u001b[39m\u001b[38;5;124m'\u001b[39m])\n\u001b[0;32m     14\u001b[0m result_tfidf \u001b[38;5;241m=\u001b[39m tfidf\u001b[38;5;241m.\u001b[39mfit_transform(result)\n\u001b[1;32m---> 15\u001b[0m result_final \u001b[38;5;241m=\u001b[39m \u001b[43mwnl\u001b[49m\u001b[38;5;241;43m.\u001b[39;49m\u001b[43mlemmatize\u001b[49m\u001b[43m(\u001b[49m\u001b[43mresult_tfidf\u001b[49m\u001b[43m)\u001b[49m\n\u001b[0;32m     17\u001b[0m word_counts \u001b[38;5;241m=\u001b[39m result\u001b[38;5;241m.\u001b[39mtoarray()\n\u001b[0;32m     18\u001b[0m feature_names \u001b[38;5;241m=\u001b[39m vectorizer\u001b[38;5;241m.\u001b[39mget_feature_names_out()\n",
      "File \u001b[1;32mc:\\Users\\astro\\repositories\\UCLA\\ECE 219\\.venv\\Lib\\site-packages\\nltk\\stem\\wordnet.py:85\u001b[0m, in \u001b[0;36mWordNetLemmatizer.lemmatize\u001b[1;34m(self, word, pos)\u001b[0m\n\u001b[0;32m     60\u001b[0m \u001b[38;5;28;01mdef\u001b[39;00m\u001b[38;5;250m \u001b[39m\u001b[38;5;21mlemmatize\u001b[39m(\u001b[38;5;28mself\u001b[39m, word: \u001b[38;5;28mstr\u001b[39m, pos: \u001b[38;5;28mstr\u001b[39m \u001b[38;5;241m=\u001b[39m \u001b[38;5;124m\"\u001b[39m\u001b[38;5;124mn\u001b[39m\u001b[38;5;124m\"\u001b[39m) \u001b[38;5;241m-\u001b[39m\u001b[38;5;241m>\u001b[39m \u001b[38;5;28mstr\u001b[39m:\n\u001b[0;32m     61\u001b[0m \u001b[38;5;250m    \u001b[39m\u001b[38;5;124;03m\"\"\"Lemmatize `word` by picking the shortest of the possible lemmas,\u001b[39;00m\n\u001b[0;32m     62\u001b[0m \u001b[38;5;124;03m    using the wordnet corpus reader's built-in _morphy function.\u001b[39;00m\n\u001b[0;32m     63\u001b[0m \u001b[38;5;124;03m    Returns the input word unchanged if it cannot be found in WordNet.\u001b[39;00m\n\u001b[1;32m   (...)\u001b[0m\n\u001b[0;32m     83\u001b[0m \u001b[38;5;124;03m    :return: The shortest lemma of `word`, for the given `pos`.\u001b[39;00m\n\u001b[0;32m     84\u001b[0m \u001b[38;5;124;03m    \"\"\"\u001b[39;00m\n\u001b[1;32m---> 85\u001b[0m     lemmas \u001b[38;5;241m=\u001b[39m \u001b[38;5;28;43mself\u001b[39;49m\u001b[38;5;241;43m.\u001b[39;49m\u001b[43m_morphy\u001b[49m\u001b[43m(\u001b[49m\u001b[43mword\u001b[49m\u001b[43m,\u001b[49m\u001b[43m \u001b[49m\u001b[43mpos\u001b[49m\u001b[43m)\u001b[49m\n\u001b[0;32m     86\u001b[0m     \u001b[38;5;28;01mreturn\u001b[39;00m \u001b[38;5;28mmin\u001b[39m(lemmas, key\u001b[38;5;241m=\u001b[39m\u001b[38;5;28mlen\u001b[39m) \u001b[38;5;28;01mif\u001b[39;00m lemmas \u001b[38;5;28;01melse\u001b[39;00m word\n",
      "File \u001b[1;32mc:\\Users\\astro\\repositories\\UCLA\\ECE 219\\.venv\\Lib\\site-packages\\nltk\\stem\\wordnet.py:41\u001b[0m, in \u001b[0;36mWordNetLemmatizer._morphy\u001b[1;34m(self, form, pos, check_exceptions)\u001b[0m\n\u001b[0;32m     31\u001b[0m \u001b[38;5;250m\u001b[39m\u001b[38;5;124;03m\"\"\"\u001b[39;00m\n\u001b[0;32m     32\u001b[0m \u001b[38;5;124;03m_morphy() is WordNet's _morphy lemmatizer.\u001b[39;00m\n\u001b[0;32m     33\u001b[0m \u001b[38;5;124;03mIt returns a list of all lemmas found in WordNet.\u001b[39;00m\n\u001b[1;32m   (...)\u001b[0m\n\u001b[0;32m     37\u001b[0m \u001b[38;5;124;03m['us', 'u']\u001b[39;00m\n\u001b[0;32m     38\u001b[0m \u001b[38;5;124;03m\"\"\"\u001b[39;00m\n\u001b[0;32m     39\u001b[0m \u001b[38;5;28;01mfrom\u001b[39;00m\u001b[38;5;250m \u001b[39m\u001b[38;5;21;01mnltk\u001b[39;00m\u001b[38;5;21;01m.\u001b[39;00m\u001b[38;5;21;01mcorpus\u001b[39;00m\u001b[38;5;250m \u001b[39m\u001b[38;5;28;01mimport\u001b[39;00m wordnet \u001b[38;5;28;01mas\u001b[39;00m wn\n\u001b[1;32m---> 41\u001b[0m \u001b[38;5;28;01mreturn\u001b[39;00m \u001b[43mwn\u001b[49m\u001b[38;5;241;43m.\u001b[39;49m\u001b[43m_morphy\u001b[49m\u001b[43m(\u001b[49m\u001b[43mform\u001b[49m\u001b[43m,\u001b[49m\u001b[43m \u001b[49m\u001b[43mpos\u001b[49m\u001b[43m,\u001b[49m\u001b[43m \u001b[49m\u001b[43mcheck_exceptions\u001b[49m\u001b[43m)\u001b[49m\n",
      "File \u001b[1;32mc:\\Users\\astro\\repositories\\UCLA\\ECE 219\\.venv\\Lib\\site-packages\\nltk\\corpus\\reader\\wordnet.py:2101\u001b[0m, in \u001b[0;36mWordNetCorpusReader._morphy\u001b[1;34m(self, form, pos, check_exceptions)\u001b[0m\n\u001b[0;32m   2098\u001b[0m                     seen\u001b[38;5;241m.\u001b[39madd(form)\n\u001b[0;32m   2099\u001b[0m     \u001b[38;5;28;01mreturn\u001b[39;00m result\n\u001b[1;32m-> 2101\u001b[0m \u001b[38;5;28;01mif\u001b[39;00m check_exceptions \u001b[38;5;129;01mand\u001b[39;00m \u001b[43mform\u001b[49m\u001b[43m \u001b[49m\u001b[38;5;129;43;01min\u001b[39;49;00m\u001b[43m \u001b[49m\u001b[43mexceptions\u001b[49m:\n\u001b[0;32m   2102\u001b[0m     \u001b[38;5;66;03m# 0. Check the exception lists\u001b[39;00m\n\u001b[0;32m   2103\u001b[0m     forms \u001b[38;5;241m=\u001b[39m exceptions[form]\n\u001b[0;32m   2104\u001b[0m \u001b[38;5;28;01melse\u001b[39;00m:\n\u001b[0;32m   2105\u001b[0m     \u001b[38;5;66;03m# 1. Apply rules once to the input to get y1, y2, y3, etc.\u001b[39;00m\n",
      "\u001b[1;31mTypeError\u001b[0m: unhashable type: 'csr_matrix'"
     ]
    }
   ],
   "source": [
    "# Code for Question 3 (in progress)\n",
    "nltk.download('wordnet')\n",
    "train = train.map(clean)\n",
    "test = test.map(clean)\n",
    "\n",
    "min_dfs = range(1,6)\n",
    "for min_df in min_dfs:\n",
    "    vectorizer = CountVectorizer(stop_words='english', min_df=min_df)\n",
    "    tfidf = TfidfTransformer()\n",
    "    # wnl = nltk.wordnet.WordNetLemmatizer() Need to fix this part\n",
    "    \n",
    "    result = vectorizer.fit_transform(train['full_text'])\n",
    "    result_tfidf = tfidf.fit_transform(result)\n",
    "    # result_final = wnl.lemmatize(result_tfidf)\n",
    "    \n",
    "    word_counts = result.toarray()\n",
    "    feature_names = vectorizer.get_feature_names_out()\n",
    "    print(result_tfidf.shape)\n",
    "    print('-' * 20)\n",
    "    print(result.toarray()[:30,:5])\n",
    "    print('-' * 20)\n",
    "    print(result_tfidf.toarray()[:30,:5])\n",
    "    print('-' * 20)"
   ]
  },
  {
   "cell_type": "markdown",
   "metadata": {},
   "source": [
    "- Bullet 1, Question 3\n",
    "  - A pro of lemmatization over stemming is that stemmed words may not match the context of the sentance that they were found in, as it relies on a simple rules to find the root word, while lemmatixation attempts to find the root word using linguistics.\n",
    "  - A con of lemmatization when compared to stemming is its additonal layer of computational complexity, and its requirement of parts-of-speech which is used to better understand the context of the words being processed.\n",
    "- Bullet 2, Question 3\n",
    "  - As we increase the value of *min_df*, we observe that the total number of collected words begins to decline as less frequently occuring words may be less valuable to our model than other words occuring frequently throughout the text.\n",
    "- Bullet 3, Question 3\n",
    "  - Punctuation and numbers can be removed prior to lemmatizing as they do not have a large influence on sentance structure and meaning of words, however, stop words should be removed after lemmatizing, as they can play an intergral role in identifying the context of our words of interest.\n",
    "- Bullet 4, Question 3\n",
    "  - As expected with a value of *min_df* = 3, we have a matching number of rows to the result observed in question 2."
   ]
  },
  {
   "cell_type": "markdown",
   "metadata": {},
   "source": [
    "### QUESTION 4: Reduce the dimensionality of the data using the methods above:\n",
    "- Plot the explained variance ratio across multiple different k = [1, 5, 10, 25, 50, 100, 500, 1000]\n",
    "for LSI and for the next few sections choose k = 25. What does the explained variance ratio\n",
    "plot look like? What does the plot’s concavity suggest?\n",
    "- With k = 25 found in the previous sections, calculate the reconstruction residual MSE error\n",
    "when using LSI and NMF – they both should use the same k = 25. Which one is larger, the $||X − WH||_{F}^2$ in NMF or the $||X − U_k Σ_k V_{k}^T||_{F}^2$ in LSI and why?"
   ]
  },
  {
   "cell_type": "code",
   "execution_count": null,
   "metadata": {},
   "outputs": [],
   "source": [
    "# Code for Question 4"
   ]
  },
  {
   "cell_type": "markdown",
   "metadata": {},
   "source": [
    "### QUESTION 5: Compare and contrast hard-margin and soft-margin linear SVMs:\n",
    "- Train two linear SVMs:\n",
    "- Train one SVM with γ = 2000 (hard margin), another with γ = 0.0005 (soft margin).\n",
    "- Plot the ROC curve, report the confusion matrix and calculate the accuracy, recall,\n",
    "precision and F-1 score of both SVM classifiers on the testing set. Which one performs\n",
    "better? What about for γ = 100000?\n",
    "- What happens for the soft margin SVM? Why is the case? Analyze in terms of the\n",
    "confusion matrix.\n",
    "  - Does the ROC curve reflect the performance of the soft-margin SVM? Why?\n",
    "- Use cross-validation to choose γ (use average validation 3 accuracy to compare): Using a\n",
    "5-fold cross-validation, find the best value of the parameter γ in the range {10k| − 3 ≤ k ≤\n",
    "6, k ∈ Z}. Again, plot the ROC curve and report the confusion matrix and calculate the\n",
    "accuracy, recall precision and F-1 score of this best SVM."
   ]
  },
  {
   "cell_type": "code",
   "execution_count": null,
   "metadata": {},
   "outputs": [],
   "source": [
    "# Code for Question 5"
   ]
  },
  {
   "cell_type": "markdown",
   "metadata": {},
   "source": [
    "### QUESTION 6: Evaluate a logistic classifier:\n",
    "- Train a logistic classifier without regularization (you may need to come up with some way to\n",
    "approximate this if you use sklearn.linear model.LogisticRegression); plot the ROC\n",
    "curve and report the confusion matrix and calculate the accuracy, recall precision and F-1\n",
    "score of this classifier on the testing set.\n",
    "- Find the optimal regularization coefficient:\n",
    "  - Using 5-fold cross-validation on the dimension-reduced-by-SVD training data, find the op-\n",
    "timal regularization strength in the range {10k|−5 ≤ k ≤ 5, k ∈ Z} for logistic regression\n",
    "with L1 regularization and logistic regression with L2 regularization, respectively.\n",
    "  - Compare the performance (accuracy, precision, recall and F-1 score) of 3 logistic classi-\n",
    "fiers: w/o regularization, w/ L1 regularization and w/ L2 regularization (with the best\n",
    "parameters you found from the part above), using test data.\n",
    "  - How does the regularization parameter affect the test error? How are the learnt coeffi-\n",
    "cients affected? Why might one be interested in each type of regularization?\n",
    "  - Both logistic regression and linear SVM are trying to classify data points using a linear\n",
    "decision boundary. What is the difference between their ways to find this boundary? Why\n",
    "do their performances differ? Is this difference statistically significant?"
   ]
  },
  {
   "cell_type": "code",
   "execution_count": null,
   "metadata": {},
   "outputs": [],
   "source": [
    "# Code for Question 6"
   ]
  },
  {
   "cell_type": "markdown",
   "metadata": {},
   "source": [
    "### QUESTION 7: Evaluate and profile a Naive Bayes classifier: \n",
    "Train a GaussianNB classifier; plot the ROC curve and report the confusion matrix and calculate the accuracy, recall, precision and\n",
    "F-1 score of this classifier on the testing set."
   ]
  },
  {
   "cell_type": "code",
   "execution_count": null,
   "metadata": {},
   "outputs": [],
   "source": [
    "# Code for Question 7"
   ]
  },
  {
   "cell_type": "markdown",
   "metadata": {},
   "source": [
    "### QUESTION 8: In this part, you will attempt to find the best model for binary classification.\n",
    "- Construct a Pipeline that performs feature extraction, dimensionality reduction and classifi-\n",
    "cation;\n",
    "- The evaluation of each combination is performed with 5-fold cross-validation (use the average\n",
    "validation set accuracy across folds).\n",
    "- In addition to any other hyperparameters you choose, your gridsearch must at least include:\n",
    "- What are the 5 best combinations? Report their performances on the testing set."
   ]
  },
  {
   "cell_type": "code",
   "execution_count": null,
   "metadata": {},
   "outputs": [],
   "source": [
    "# Code for Question 8"
   ]
  },
  {
   "cell_type": "markdown",
   "metadata": {},
   "source": [
    "### QUESTION 9: In this part, we aim to learn classifiers on the documents belonging to unique classes in the column leaf label.\n",
    "Perform Naive Bayes classification and multiclass SVM classification (with both One VS One and\n",
    "One VS the rest methods described above) and report the confusion matrix and calculate the\n",
    "accuracy, recall, precision and F-1 score of your classifiers. How did you resolve the class\n",
    "imbalance issue in the One VS the rest model?\n",
    "In addition, answer the following questions:\n",
    "- In the confusion matrix you should have an 10 × 10 matrix where 10 is the number of unique\n",
    "labels in the column leaf label. Please make sure that the order of these labels is as\n",
    "follows:\n",
    "\n",
    "    *map_row_to_class = {0:\"basketball\", 1:\"baseball\", 2:\"tennis\", 3:\"football\", 4:\"soccer\", 5:\"forest fire\", 6:\"flood\", 7:\"earthquake\", 8:\"drought\", 9:\"heatwave\"}*\n",
    "\n",
    "    Do you observe any structure in the confusion matrix? Are there distinct visible blocks on the\n",
    "    major diagonal? What does this mean?\n",
    "    \n",
    "- Based on your observation from the previous part, suggest a subset of labels that should be\n",
    "merged into a new larger label and recompute the accuracy and plot the confusion matrix.\n",
    "How did the accuracy change in One VS One and One VS the rest?\n",
    "- Does class imbalance impact the performance of the classification once some classes are\n",
    "merged? Provide a resolution for the class imbalance and recompute the accuracy and plot\n",
    "the confusion matrix in One VS One and One VS the rest?."
   ]
  },
  {
   "cell_type": "code",
   "execution_count": null,
   "metadata": {},
   "outputs": [],
   "source": [
    "# Code for Question 9"
   ]
  },
  {
   "cell_type": "markdown",
   "metadata": {},
   "source": [
    "### QUESTION 10: Read the paper about GLoVE embeddings - found here and answer the following subquestions:\n",
    "a. Why are GLoVE embeddings trained on the ratio of co-occurrence probabilities rather than\n",
    "the probabilities themselves?\n",
    "\n",
    "b. In the two sentences: “James is running in the park.” and “James is running for the\n",
    "presidency.”, would GLoVE embeddings return the same vector for the word running in both\n",
    "cases? Why or why not?\n",
    "\n",
    "c. What do you expect for the values of,\n",
    "||GLoVE[\"left\"] - $GLoVE[\"right\"]||_2$, ||GLoVE[\"wife\"] - $GLoVE[\"husband\"]||_2$ and\n",
    "||GLoVE[\"wife\"] - $GLoVE[\"orange\"]||_2$ ? Compare these values.\n",
    "\n",
    "d. Given a word, would you rather stem or lemmatize the word before mapping it to its GLoVE\n",
    "embedding?"
   ]
  },
  {
   "cell_type": "code",
   "execution_count": null,
   "metadata": {},
   "outputs": [],
   "source": [
    "# Code for Question 10"
   ]
  },
  {
   "cell_type": "markdown",
   "metadata": {},
   "source": [
    "### QUESTION 11: For the binary classification task distinguishing the “sports” class and “climate” class:\n",
    "a. Describe a feature engineering process that uses GLoVE word embeddings to represent each\n",
    "document. You have to abide by the following rules:\n",
    "\n",
    "- A representation of a text segment needs to have a vector dimension that CANNOT\n",
    "exceed the dimension of the GLoVE embedding used per word of the segment.\n",
    "- You cannot use TF-IDF scores (or any measure that requires looking at the complete\n",
    "dataset) as a pre-processing routine.\n",
    "- Important: In this section, feel free to use raw features from any column in the original\n",
    "data file not just full text. The column keywords might be useful... or not. Make\n",
    "sure that your result achieves an accuracy of at least 92%.\n",
    "- To aggregate these words into a single vector consider normalization the vectors, averaging\n",
    "across the vectors.\n",
    "\n",
    "b. Select a classifier model, train and evaluate it with your GLoVE-based feature. If you are doing\n",
    "any cross-validation, please make sure to use a limited set of options so that your code finishes\n",
    "running in a reasonable amount of time."
   ]
  },
  {
   "cell_type": "code",
   "execution_count": null,
   "metadata": {},
   "outputs": [],
   "source": [
    "# Code for Question 11"
   ]
  },
  {
   "cell_type": "markdown",
   "metadata": {},
   "source": [
    "### QUESTION 12: Graphing \n",
    "Plot the relationship between the dimension of the pre-trained GLoVE embedding\n",
    "and the resulting accuracy of the model in the classification task. Describe the observed trend. Is\n",
    "this trend expected? Why or why not? In this part use the different sets of GLoVE vectors from the\n",
    "link."
   ]
  },
  {
   "cell_type": "code",
   "execution_count": null,
   "metadata": {},
   "outputs": [],
   "source": [
    "# Code for Question 12"
   ]
  },
  {
   "cell_type": "markdown",
   "metadata": {},
   "source": [
    "### QUESTION 13: Compare and contrast the two visualizations. \n",
    "Are there clusters formed in either or both of the plots? We will pursue the clustering aspect further in the next project."
   ]
  },
  {
   "cell_type": "code",
   "execution_count": null,
   "metadata": {},
   "outputs": [],
   "source": [
    "# Code for Question 13"
   ]
  }
 ],
 "metadata": {
  "kernelspec": {
   "display_name": ".venv",
   "language": "python",
   "name": "python3"
  },
  "language_info": {
   "codemirror_mode": {
    "name": "ipython",
    "version": 3
   },
   "file_extension": ".py",
   "mimetype": "text/x-python",
   "name": "python",
   "nbconvert_exporter": "python",
   "pygments_lexer": "ipython3",
   "version": "3.11.5"
  }
 },
 "nbformat": 4,
 "nbformat_minor": 2
}
